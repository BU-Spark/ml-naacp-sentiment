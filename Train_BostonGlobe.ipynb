{
 "cells": [
  {
   "cell_type": "code",
   "execution_count": 2,
   "metadata": {},
   "outputs": [],
   "source": [
    "import pandas as pd\n",
    "import numpy as np\n",
    "import torch\n",
    "from torch.utils.data import DataLoader, TensorDataset\n",
    "from transformers import XLNetTokenizer, XLNetModel, XLNetForSequenceClassification, AdamW\n",
    "from sklearn.metrics import accuracy_score"
   ]
  },
  {
   "cell_type": "code",
   "execution_count": 3,
   "metadata": {},
   "outputs": [],
   "source": [
    "# df = pd.read_csv('data/TBG_unique_raw.csv')"
   ]
  },
  {
   "cell_type": "code",
   "execution_count": 4,
   "metadata": {},
   "outputs": [],
   "source": [
    "df = pd.read_csv('data/sample_1000rows.csv')"
   ]
  },
  {
   "cell_type": "code",
   "execution_count": 5,
   "metadata": {},
   "outputs": [
    {
     "data": {
      "text/html": [
       "<div>\n",
       "<style scoped>\n",
       "    .dataframe tbody tr th:only-of-type {\n",
       "        vertical-align: middle;\n",
       "    }\n",
       "\n",
       "    .dataframe tbody tr th {\n",
       "        vertical-align: top;\n",
       "    }\n",
       "\n",
       "    .dataframe thead th {\n",
       "        text-align: right;\n",
       "    }\n",
       "</style>\n",
       "<table border=\"1\" class=\"dataframe\">\n",
       "  <thead>\n",
       "    <tr style=\"text-align: right;\">\n",
       "      <th></th>\n",
       "      <th>pub_type</th>\n",
       "      <th>position_section</th>\n",
       "      <th>position_subsection</th>\n",
       "      <th>hl1</th>\n",
       "      <th>hl2</th>\n",
       "      <th>author</th>\n",
       "      <th>lede</th>\n",
       "      <th>body</th>\n",
       "      <th>language</th>\n",
       "      <th>word_count</th>\n",
       "      <th>copyright</th>\n",
       "      <th>content-id</th>\n",
       "      <th>volume</th>\n",
       "      <th>issue_number</th>\n",
       "      <th>edition</th>\n",
       "      <th>pub_name</th>\n",
       "      <th>pub_date</th>\n",
       "      <th>licensor_indexing_terms</th>\n",
       "      <th>indexing_terms</th>\n",
       "      <th>year</th>\n",
       "    </tr>\n",
       "  </thead>\n",
       "  <tbody>\n",
       "    <tr>\n",
       "      <th>0</th>\n",
       "      <td>Newspaper, Newspapers</td>\n",
       "      <td>SPORTS</td>\n",
       "      <td>NaN</td>\n",
       "      <td>Team up in air on Canada's pot issue</td>\n",
       "      <td>NaN</td>\n",
       "      <td>NaN</td>\n",
       "      <td>calgary, alberta — some bruins rely on plant-b...</td>\n",
       "      <td>body while now legal in 13 nhl cities — seven ...</td>\n",
       "      <td>['ENGLISH']</td>\n",
       "      <td>912.0</td>\n",
       "      <td>Copyright 2018 Globe Newspaper Company All Rig...</td>\n",
       "      <td>BGLOBE-1a045630-d24e-11e8-83d5-dee7c961b652</td>\n",
       "      <td>NaN</td>\n",
       "      <td>NaN</td>\n",
       "      <td>NaN</td>\n",
       "      <td>The Boston Globe</td>\n",
       "      <td>{'day': '18', 'month': '10', 'year': '2018'}</td>\n",
       "      <td>NaN</td>\n",
       "      <td>{'subject': [{'score': '92', 'classCode': 'STX...</td>\n",
       "      <td>2018</td>\n",
       "    </tr>\n",
       "    <tr>\n",
       "      <th>1</th>\n",
       "      <td>Newspaper, Newspapers</td>\n",
       "      <td>NEWS</td>\n",
       "      <td>National</td>\n",
       "      <td>Treasury worker is charged with leaks</td>\n",
       "      <td>NaN</td>\n",
       "      <td>NaN</td>\n",
       "      <td>washington — a senior treasury department empl...</td>\n",
       "      <td>body the charges reflect the latest move in th...</td>\n",
       "      <td>['ENGLISH']</td>\n",
       "      <td>273.0</td>\n",
       "      <td>Copyright 2018 Globe Newspaper Company All Rig...</td>\n",
       "      <td>BGLOBE-68f23a02-d238-11e8-8fdb-5c3af1605444</td>\n",
       "      <td>NaN</td>\n",
       "      <td>NaN</td>\n",
       "      <td>NaN</td>\n",
       "      <td>The Boston Globe</td>\n",
       "      <td>{'day': '18', 'month': '10', 'year': '2018'}</td>\n",
       "      <td>NaN</td>\n",
       "      <td>{'legal': [{'className': 'Banking Law', 'class...</td>\n",
       "      <td>2018</td>\n",
       "    </tr>\n",
       "    <tr>\n",
       "      <th>2</th>\n",
       "      <td>Newspaper, Newspapers</td>\n",
       "      <td>LIVING ARTS</td>\n",
       "      <td>NaN</td>\n",
       "      <td>Funny Women luncheon raises record $950,000 fo...</td>\n",
       "      <td>NaN</td>\n",
       "      <td>NaN</td>\n",
       "      <td>edwidge danticat spoke at the luncheon to bene...</td>\n",
       "      <td>body at tuesday's funny women . . . serious bu...</td>\n",
       "      <td>['ENGLISH']</td>\n",
       "      <td>247.0</td>\n",
       "      <td>Copyright 2018 Globe Newspaper Company All Rig...</td>\n",
       "      <td>BGLOBE-0799bdb4-d23a-11e8-8fdb-5c3af1605444</td>\n",
       "      <td>NaN</td>\n",
       "      <td>NaN</td>\n",
       "      <td>NaN</td>\n",
       "      <td>The Boston Globe</td>\n",
       "      <td>{'day': '18', 'month': '10', 'year': '2018'}</td>\n",
       "      <td>NaN</td>\n",
       "      <td>{'subject': [{'score': '90', 'classCode': 'STX...</td>\n",
       "      <td>2018</td>\n",
       "    </tr>\n",
       "    <tr>\n",
       "      <th>3</th>\n",
       "      <td>Newspaper, Newspapers</td>\n",
       "      <td>NEWS</td>\n",
       "      <td>Foreign</td>\n",
       "      <td>Turkish officials say audio reveals torture</td>\n",
       "      <td>NaN</td>\n",
       "      <td>NaN</td>\n",
       "      <td>istanbul — his killers were waiting when jamal...</td>\n",
       "      <td>body khashoggi was dead within minutes, and wi...</td>\n",
       "      <td>['ENGLISH']</td>\n",
       "      <td>474.0</td>\n",
       "      <td>Copyright 2018 Globe Newspaper Company All Rig...</td>\n",
       "      <td>BGLOBE-d9f9ad0c-d238-11e8-8fdb-5c3af1605444</td>\n",
       "      <td>NaN</td>\n",
       "      <td>NaN</td>\n",
       "      <td>NaN</td>\n",
       "      <td>The Boston Globe</td>\n",
       "      <td>{'day': '18', 'month': '10', 'year': '2018'}</td>\n",
       "      <td>NaN</td>\n",
       "      <td>{'subject': [{'score': '92', 'classCode': 'N92...</td>\n",
       "      <td>2018</td>\n",
       "    </tr>\n",
       "    <tr>\n",
       "      <th>4</th>\n",
       "      <td>Newspaper, Newspapers</td>\n",
       "      <td>NEWS</td>\n",
       "      <td>Metro</td>\n",
       "      <td>N.E. Journal pulls stem cell researcher's paper</td>\n",
       "      <td>Concern espressed about 2 other articles</td>\n",
       "      <td>NaN</td>\n",
       "      <td>the new england journal of medicine on wednesd...</td>\n",
       "      <td>body anversa directed a lab at the brigham fro...</td>\n",
       "      <td>['ENGLISH']</td>\n",
       "      <td>635.0</td>\n",
       "      <td>Copyright 2018 Globe Newspaper Company All Rig...</td>\n",
       "      <td>BGLOBE-178e505e-d262-11e8-8bbe-65aa870fef5a</td>\n",
       "      <td>NaN</td>\n",
       "      <td>NaN</td>\n",
       "      <td>NaN</td>\n",
       "      <td>The Boston Globe</td>\n",
       "      <td>{'day': '18', 'month': '10', 'year': '2018'}</td>\n",
       "      <td>NaN</td>\n",
       "      <td>{'subject': [{'score': '90', 'classCode': 'ST0...</td>\n",
       "      <td>2018</td>\n",
       "    </tr>\n",
       "  </tbody>\n",
       "</table>\n",
       "</div>"
      ],
      "text/plain": [
       "                pub_type position_section position_subsection  \\\n",
       "0  Newspaper, Newspapers           SPORTS                 NaN   \n",
       "1  Newspaper, Newspapers             NEWS            National   \n",
       "2  Newspaper, Newspapers      LIVING ARTS                 NaN   \n",
       "3  Newspaper, Newspapers             NEWS             Foreign   \n",
       "4  Newspaper, Newspapers             NEWS               Metro   \n",
       "\n",
       "                                                 hl1  \\\n",
       "0               Team up in air on Canada's pot issue   \n",
       "1              Treasury worker is charged with leaks   \n",
       "2  Funny Women luncheon raises record $950,000 fo...   \n",
       "3        Turkish officials say audio reveals torture   \n",
       "4    N.E. Journal pulls stem cell researcher's paper   \n",
       "\n",
       "                                        hl2 author  \\\n",
       "0                                       NaN    NaN   \n",
       "1                                       NaN    NaN   \n",
       "2                                       NaN    NaN   \n",
       "3                                       NaN    NaN   \n",
       "4  Concern espressed about 2 other articles    NaN   \n",
       "\n",
       "                                                lede  \\\n",
       "0  calgary, alberta — some bruins rely on plant-b...   \n",
       "1  washington — a senior treasury department empl...   \n",
       "2  edwidge danticat spoke at the luncheon to bene...   \n",
       "3  istanbul — his killers were waiting when jamal...   \n",
       "4  the new england journal of medicine on wednesd...   \n",
       "\n",
       "                                                body     language  word_count  \\\n",
       "0  body while now legal in 13 nhl cities — seven ...  ['ENGLISH']       912.0   \n",
       "1  body the charges reflect the latest move in th...  ['ENGLISH']       273.0   \n",
       "2  body at tuesday's funny women . . . serious bu...  ['ENGLISH']       247.0   \n",
       "3  body khashoggi was dead within minutes, and wi...  ['ENGLISH']       474.0   \n",
       "4  body anversa directed a lab at the brigham fro...  ['ENGLISH']       635.0   \n",
       "\n",
       "                                           copyright  \\\n",
       "0  Copyright 2018 Globe Newspaper Company All Rig...   \n",
       "1  Copyright 2018 Globe Newspaper Company All Rig...   \n",
       "2  Copyright 2018 Globe Newspaper Company All Rig...   \n",
       "3  Copyright 2018 Globe Newspaper Company All Rig...   \n",
       "4  Copyright 2018 Globe Newspaper Company All Rig...   \n",
       "\n",
       "                                    content-id  volume  issue_number edition  \\\n",
       "0  BGLOBE-1a045630-d24e-11e8-83d5-dee7c961b652     NaN           NaN     NaN   \n",
       "1  BGLOBE-68f23a02-d238-11e8-8fdb-5c3af1605444     NaN           NaN     NaN   \n",
       "2  BGLOBE-0799bdb4-d23a-11e8-8fdb-5c3af1605444     NaN           NaN     NaN   \n",
       "3  BGLOBE-d9f9ad0c-d238-11e8-8fdb-5c3af1605444     NaN           NaN     NaN   \n",
       "4  BGLOBE-178e505e-d262-11e8-8bbe-65aa870fef5a     NaN           NaN     NaN   \n",
       "\n",
       "           pub_name                                      pub_date  \\\n",
       "0  The Boston Globe  {'day': '18', 'month': '10', 'year': '2018'}   \n",
       "1  The Boston Globe  {'day': '18', 'month': '10', 'year': '2018'}   \n",
       "2  The Boston Globe  {'day': '18', 'month': '10', 'year': '2018'}   \n",
       "3  The Boston Globe  {'day': '18', 'month': '10', 'year': '2018'}   \n",
       "4  The Boston Globe  {'day': '18', 'month': '10', 'year': '2018'}   \n",
       "\n",
       "   licensor_indexing_terms                                     indexing_terms  \\\n",
       "0                      NaN  {'subject': [{'score': '92', 'classCode': 'STX...   \n",
       "1                      NaN  {'legal': [{'className': 'Banking Law', 'class...   \n",
       "2                      NaN  {'subject': [{'score': '90', 'classCode': 'STX...   \n",
       "3                      NaN  {'subject': [{'score': '92', 'classCode': 'N92...   \n",
       "4                      NaN  {'subject': [{'score': '90', 'classCode': 'ST0...   \n",
       "\n",
       "   year  \n",
       "0  2018  \n",
       "1  2018  \n",
       "2  2018  \n",
       "3  2018  \n",
       "4  2018  "
      ]
     },
     "execution_count": 5,
     "metadata": {},
     "output_type": "execute_result"
    }
   ],
   "source": [
    "df.head()"
   ]
  },
  {
   "cell_type": "code",
   "execution_count": 6,
   "metadata": {},
   "outputs": [
    {
     "name": "stderr",
     "output_type": "stream",
     "text": [
      "/var/folders/qp/_cz8x4hj1730r0wn6pht12dr0000gn/T/ipykernel_62642/49860782.py:2: FutureWarning: A value is trying to be set on a copy of a DataFrame or Series through chained assignment using an inplace method.\n",
      "The behavior will change in pandas 3.0. This inplace method will never work because the intermediate object on which we are setting values always behaves as a copy.\n",
      "\n",
      "For example, when doing 'df[col].method(value, inplace=True)', try using 'df.method({col: value}, inplace=True)' or df[col] = df[col].method(value) instead, to perform the operation inplace on the original object.\n",
      "\n",
      "\n",
      "  df['hl1'].fillna(\"No title\", inplace=True)\n"
     ]
    }
   ],
   "source": [
    "# preprocess hl1 so that no empty headlines causing error\n",
    "df['hl1'].fillna(\"No title\", inplace=True)"
   ]
  },
  {
   "cell_type": "code",
   "execution_count": 7,
   "metadata": {},
   "outputs": [],
   "source": [
    "headlines = df['hl1'].tolist()"
   ]
  },
  {
   "cell_type": "code",
   "execution_count": 8,
   "metadata": {},
   "outputs": [],
   "source": [
    "tokenizer = XLNetTokenizer.from_pretrained('xlnet-large-cased')"
   ]
  },
  {
   "cell_type": "code",
   "execution_count": 9,
   "metadata": {},
   "outputs": [
    {
     "name": "stderr",
     "output_type": "stream",
     "text": [
      "Some weights of XLNetForSequenceClassification were not initialized from the model checkpoint at xlnet/xlnet-base-cased and are newly initialized: ['logits_proj.bias', 'logits_proj.weight', 'sequence_summary.summary.bias', 'sequence_summary.summary.weight']\n",
      "You should probably TRAIN this model on a down-stream task to be able to use it for predictions and inference.\n"
     ]
    }
   ],
   "source": [
    "# positive, negative, neutral\n",
    "model = XLNetForSequenceClassification.from_pretrained(\"xlnet/xlnet-base-cased\", num_labels=3)"
   ]
  },
  {
   "cell_type": "code",
   "execution_count": 10,
   "metadata": {},
   "outputs": [],
   "source": [
    "# Tokenize headlines\n",
    "encoded_input = tokenizer(headlines, padding=True, truncation=True, return_tensors='pt', max_length=512)"
   ]
  },
  {
   "cell_type": "code",
   "execution_count": 11,
   "metadata": {},
   "outputs": [],
   "source": [
    "with torch.no_grad():\n",
    "    outputs = model(**encoded_input)\n",
    "    predictions = torch.argmax(outputs.logits, dim=-1)"
   ]
  },
  {
   "cell_type": "code",
   "execution_count": 12,
   "metadata": {},
   "outputs": [],
   "source": [
    "sentiment_labels = ['Negative', 'Neutral', 'Positive']\n",
    "predicted_sentiments = [sentiment_labels[pred] for pred in predictions]\n",
    "df['xlnet_sentiment'] = predicted_sentiments"
   ]
  },
  {
   "cell_type": "code",
   "execution_count": 13,
   "metadata": {},
   "outputs": [],
   "source": [
    "df.to_csv('data/TBG_unique_raw_XLnet.csv', index=False)"
   ]
  },
  {
   "cell_type": "code",
   "execution_count": null,
   "metadata": {},
   "outputs": [],
   "source": []
  }
 ],
 "metadata": {
  "kernelspec": {
   "display_name": "naacp_ml",
   "language": "python",
   "name": "python3"
  },
  "language_info": {
   "codemirror_mode": {
    "name": "ipython",
    "version": 3
   },
   "file_extension": ".py",
   "mimetype": "text/x-python",
   "name": "python",
   "nbconvert_exporter": "python",
   "pygments_lexer": "ipython3",
   "version": "3.9.18"
  }
 },
 "nbformat": 4,
 "nbformat_minor": 2
}
